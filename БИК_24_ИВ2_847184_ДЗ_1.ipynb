{
  "nbformat": 4,
  "nbformat_minor": 0,
  "metadata": {
    "colab": {
      "provenance": [],
      "authorship_tag": "ABX9TyN4A1HQM4HLeLr4d0vPNbfE",
      "include_colab_link": true
    },
    "kernelspec": {
      "name": "python3",
      "display_name": "Python 3"
    },
    "language_info": {
      "name": "python"
    }
  },
  "cells": [
    {
      "cell_type": "markdown",
      "metadata": {
        "id": "view-in-github",
        "colab_type": "text"
      },
      "source": [
        "<a href=\"https://colab.research.google.com/github/FrankFu1t/--24--2-847184/blob/main/%D0%91%D0%98%D0%9A_24_%D0%98%D0%922_847184_%D0%94%D0%97_1.ipynb\" target=\"_parent\"><img src=\"https://colab.research.google.com/assets/colab-badge.svg\" alt=\"Open In Colab\"/></a>"
      ]
    },
    {
      "cell_type": "markdown",
      "source": [
        "Задание 1"
      ],
      "metadata": {
        "id": "ozPzpAW_LNIQ"
      }
    },
    {
      "cell_type": "code",
      "execution_count": null,
      "metadata": {
        "colab": {
          "base_uri": "https://localhost:8080/"
        },
        "id": "fGoHvCm-LHgR",
        "outputId": "03e092dc-7727-49fb-d417-1c89df19678a"
      },
      "outputs": [
        {
          "output_type": "stream",
          "name": "stdout",
          "text": [
            "2\n",
            "3\n",
            "3.605551275463989\n"
          ]
        }
      ],
      "source": [
        "import math\n",
        "\n",
        "a = int(input())\n",
        "b = int(input())\n",
        "\n",
        "c = math.sqrt(a**2 + b**2)\n",
        "\n",
        "print(c)"
      ]
    },
    {
      "cell_type": "markdown",
      "source": [
        "Задание 2"
      ],
      "metadata": {
        "id": "j28IrM5SL7ND"
      }
    },
    {
      "cell_type": "code",
      "source": [
        "number = int(input())\n",
        "\n",
        "next_number = number + 1\n",
        "previous_number = number - 1\n",
        "\n",
        "# Формируем и выводим результат\n",
        "print(\"The next number for the number\", number, \"is\", next_number)\n",
        "print(\"The previous number for the number\", number, \"is\", previous_number)"
      ],
      "metadata": {
        "colab": {
          "base_uri": "https://localhost:8080/"
        },
        "id": "JZUAiDaIL_uh",
        "outputId": "d00a4693-d691-4bd4-9e28-f69bf4c0b126"
      },
      "execution_count": null,
      "outputs": [
        {
          "output_type": "stream",
          "name": "stdout",
          "text": [
            "9876\n",
            "The next number for the number 9876 is 9877\n",
            "The previous number for the number 9876 is 9875\n"
          ]
        }
      ]
    },
    {
      "cell_type": "markdown",
      "source": [
        "Задание 3"
      ],
      "metadata": {
        "id": "875k5f1hMdjg"
      }
    },
    {
      "cell_type": "code",
      "source": [
        "number = input()\n",
        "\n",
        "if len(number) == 4:\n",
        "    if number[0] == number[3] and number[1] == number[2]:\n",
        "        print(1)\n",
        "    else:\n",
        "        print(0)\n",
        "else:\n",
        "    print(0)"
      ],
      "metadata": {
        "colab": {
          "base_uri": "https://localhost:8080/"
        },
        "id": "JvXPHXeYMfYS",
        "outputId": "8b1b4b29-be53-4d4f-b8da-c33ea1405fc1"
      },
      "execution_count": null,
      "outputs": [
        {
          "output_type": "stream",
          "name": "stdout",
          "text": [
            "1001\n",
            "1\n"
          ]
        }
      ]
    },
    {
      "cell_type": "markdown",
      "source": [
        "Задание 4"
      ],
      "metadata": {
        "id": "qDY9FGETM1X_"
      }
    },
    {
      "cell_type": "code",
      "source": [
        "import math\n",
        "\n",
        "h = int(input())\n",
        "a = int(input())\n",
        "b = int(input())\n",
        "\n",
        "days = math.ceil((h - a) / (a - b)) + 1\n",
        "\n",
        "print(days)"
      ],
      "metadata": {
        "colab": {
          "base_uri": "https://localhost:8080/"
        },
        "id": "SdEYVEQGM3PZ",
        "outputId": "7de09d8e-f0ce-4967-8fdb-b473a1e891f5"
      },
      "execution_count": null,
      "outputs": [
        {
          "output_type": "stream",
          "name": "stdout",
          "text": [
            "1\n",
            "2\n",
            "3\n",
            "2\n"
          ]
        }
      ]
    },
    {
      "cell_type": "markdown",
      "source": [
        "Задание 5"
      ],
      "metadata": {
        "id": "Kx0zDToENCkR"
      }
    },
    {
      "cell_type": "code",
      "source": [
        "n = int(input())\n",
        "\n",
        "hours = (n // 3600) % 24\n",
        "minutes = (n % 3600) // 60\n",
        "seconds = n % 60\n",
        "\n",
        "time_string = f\"{hours}:{minutes:02}:{seconds:02}\"\n",
        "\n",
        "print(time_string)"
      ],
      "metadata": {
        "colab": {
          "base_uri": "https://localhost:8080/"
        },
        "id": "leudp_OtNJU7",
        "outputId": "2f35f150-3690-4f57-c8da-2f78e4bdd7a9"
      },
      "execution_count": null,
      "outputs": [
        {
          "output_type": "stream",
          "name": "stdout",
          "text": [
            "3600\n",
            "1:00:00\n"
          ]
        }
      ]
    },
    {
      "cell_type": "markdown",
      "source": [
        "Задание 6"
      ],
      "metadata": {
        "id": "Y6wPOEhzNha-"
      }
    },
    {
      "cell_type": "code",
      "source": [
        "\n",
        "hours1 = int(input())\n",
        "minutes1 = int(input())\n",
        "seconds1 = int(input())\n",
        "\n",
        "hours2 = int(input())\n",
        "minutes2 = int(input())\n",
        "seconds2 = int(input())\n",
        "\n",
        "total_seconds1 = hours1 * 3600 + minutes1 * 60 + seconds1\n",
        "total_seconds2 = hours2 * 3600 + minutes2 * 60 + seconds2\n",
        "\n",
        "difference = total_seconds2 - total_seconds1\n",
        "\n",
        "print(difference)"
      ],
      "metadata": {
        "colab": {
          "base_uri": "https://localhost:8080/"
        },
        "id": "Lsc-ReNSNjjj",
        "outputId": "34d6c2d8-c0dc-4d88-fcd0-7c0d16fb4863"
      },
      "execution_count": null,
      "outputs": [
        {
          "output_type": "stream",
          "name": "stdout",
          "text": [
            "5\n",
            "5\n",
            "5\n",
            "7\n",
            "7\n",
            "7\n",
            "7322\n"
          ]
        }
      ]
    },
    {
      "cell_type": "markdown",
      "source": [
        "Задание 7"
      ],
      "metadata": {
        "id": "JyrH8o4BOCgq"
      }
    },
    {
      "cell_type": "code",
      "source": [
        "a = int(input())\n",
        "b = int(input())\n",
        "\n",
        "# Используем временную переменную для обмена\n",
        "temp = a\n",
        "a = b\n",
        "b = temp\n",
        "\n",
        "print(a, b)"
      ],
      "metadata": {
        "colab": {
          "base_uri": "https://localhost:8080/"
        },
        "id": "VANDJTplODWp",
        "outputId": "66704230-987e-4963-a5e2-7331c7394e83"
      },
      "execution_count": null,
      "outputs": [
        {
          "output_type": "stream",
          "name": "stdout",
          "text": [
            "1\n",
            "2\n",
            "2 1\n"
          ]
        }
      ]
    },
    {
      "cell_type": "markdown",
      "source": [
        "Задание 8"
      ],
      "metadata": {
        "id": "OHIgY0IROPdT"
      }
    },
    {
      "cell_type": "code",
      "source": [
        "\n",
        "n, k = map(int, input().split())\n",
        "\n",
        "result = n - (k % n)\n",
        "\n",
        "print(result)"
      ],
      "metadata": {
        "id": "lt-X1xwpOQ-E"
      },
      "execution_count": null,
      "outputs": []
    },
    {
      "cell_type": "markdown",
      "source": [
        "Задание 9"
      ],
      "metadata": {
        "id": "zX6rFen8Ppcg"
      }
    },
    {
      "cell_type": "code",
      "source": [
        "number = int(input())\n",
        "a = number // 100\n",
        "b = (number // 10) % 10\n",
        "c = number % 10\n",
        "result = a + b + c\n",
        "print(result)"
      ],
      "metadata": {
        "colab": {
          "base_uri": "https://localhost:8080/"
        },
        "id": "BVcKhoWsPrJ5",
        "outputId": "f072e207-a73e-4e77-b796-4153fcfbb978"
      },
      "execution_count": null,
      "outputs": [
        {
          "output_type": "stream",
          "name": "stdout",
          "text": [
            "123\n",
            "6\n"
          ]
        }
      ]
    }
  ]
}