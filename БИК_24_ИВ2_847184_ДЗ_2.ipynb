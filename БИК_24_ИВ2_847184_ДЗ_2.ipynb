{
  "nbformat": 4,
  "nbformat_minor": 0,
  "metadata": {
    "colab": {
      "provenance": [],
      "authorship_tag": "ABX9TyNXhjRd4oxdeapV+LAMS4rm",
      "include_colab_link": true
    },
    "kernelspec": {
      "name": "python3",
      "display_name": "Python 3"
    },
    "language_info": {
      "name": "python"
    }
  },
  "cells": [
    {
      "cell_type": "markdown",
      "metadata": {
        "id": "view-in-github",
        "colab_type": "text"
      },
      "source": [
        "<a href=\"https://colab.research.google.com/github/FrankFu1t/--24--2-847184/blob/main/%D0%91%D0%98%D0%9A_24_%D0%98%D0%922_847184_%D0%94%D0%97_2.ipynb\" target=\"_parent\"><img src=\"https://colab.research.google.com/assets/colab-badge.svg\" alt=\"Open In Colab\"/></a>"
      ]
    },
    {
      "cell_type": "markdown",
      "source": [
        "Задание 1\n"
      ],
      "metadata": {
        "id": "9OByqwgpVRaw"
      }
    },
    {
      "cell_type": "code",
      "execution_count": null,
      "metadata": {
        "id": "xHZwJdlhVMI8"
      },
      "outputs": [],
      "source": [
        "\n",
        "a = input().strip()\n",
        "b = input().strip()\n",
        "\n",
        "a_lower = a.lower()\n",
        "b_lower = b.lower()\n",
        "\n",
        "index = a_lower.find(b_lower)\n",
        "\n",
        "if index != -1:\n",
        "    found_substring = a[index:index + len(b)]\n",
        "    print(index)\n",
        "    print(found_substring)\n",
        "else:\n",
        "    print(\"Подстрока не найдена.\")"
      ]
    },
    {
      "cell_type": "markdown",
      "source": [
        "Задание 2"
      ],
      "metadata": {
        "id": "euSMd8WJV2TB"
      }
    },
    {
      "cell_type": "code",
      "source": [
        "a = input().strip()\n",
        "\n",
        "parts = a.split(',')\n",
        "\n",
        "lengths = [len(part) for part in parts]\n",
        "\n",
        "\n",
        "result = ','.join(map(str, lengths))\n",
        "print(result)"
      ],
      "metadata": {
        "id": "LpCeDo3LWAL0"
      },
      "execution_count": null,
      "outputs": []
    },
    {
      "cell_type": "markdown",
      "source": [
        "Задание 3"
      ],
      "metadata": {
        "id": "f58WQqXWV33m"
      }
    },
    {
      "cell_type": "code",
      "source": [
        "import re\n",
        "\n",
        "stroka = input().strip()\n",
        "n = int(input().strip())\n",
        "m = int(input().strip())\n",
        "\n",
        "part1 = stroka[:n]\n",
        "part2 = stroka[m:]\n",
        "\n",
        "def get_words(part):\n",
        "    return re.findall(r'\\b\\w+\\b', part)\n",
        "\n",
        "array1 = get_words(part1)\n",
        "array2 = get_words(part2)\n",
        "\n",
        "print(array1, array2)\n"
      ],
      "metadata": {
        "id": "T4O0MT0IWVxC"
      },
      "execution_count": null,
      "outputs": []
    }
  ]
}